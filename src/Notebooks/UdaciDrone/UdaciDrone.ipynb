{
 "cells": [
  {
   "cell_type": "markdown",
   "metadata": {},
   "source": [
    "# Udacidrone "
   ]
  },
  {
   "cell_type": "markdown",
   "metadata": {},
   "source": [
    "## Starter Kit"
   ]
  },
  {
   "cell_type": "markdown",
   "metadata": {},
   "source": [
    "To be able to execute the code below first you will need to install de udacidrone requirements, the easier way I could find is to install the FCND starter kit and creating an environment with conda or miniconda from there. You can find the Starter kit [here](https://github.com/udacity/FCND-Term1-Starter-Kit)"
   ]
  },
  {
   "cell_type": "markdown",
   "metadata": {},
   "source": [
    "Documentation can be found here:\n",
    "[Drone Doc](https://github.com/udacity/udacidrone/blob/master/docs/drone.md)\n",
    "\n",
    "For all docs [click here](https://github.com/udacity/udacidrone/tree/master/docs)"
   ]
  },
  {
   "cell_type": "markdown",
   "metadata": {},
   "source": [
    "## Simulator"
   ]
  },
  {
   "cell_type": "markdown",
   "metadata": {},
   "source": [
    "You will also need to be running the actual simulator, please download the simulator [here](https://github.com/udacity/FCND-Simulator-Releases/releases)"
   ]
  },
  {
   "cell_type": "markdown",
   "metadata": {},
   "source": [
    "## Code"
   ]
  },
  {
   "cell_type": "code",
   "execution_count": 2,
   "metadata": {},
   "outputs": [
    {
     "name": "stdout",
     "output_type": "stream",
     "text": [
      "Logs/TLog.txt\n"
     ]
    }
   ],
   "source": [
    "from udacidrone import Drone\n",
    "from udacidrone.connection import MavlinkConnection\n",
    "conn = MavlinkConnection('tcp:127.0.0.1:5760', threaded=True)\n",
    "drone = Drone(conn)\n",
    "drone.start()"
   ]
  },
  {
   "cell_type": "code",
   "execution_count": 3,
   "metadata": {
    "collapsed": true
   },
   "outputs": [],
   "source": [
    "drone.take_control()\n",
    "drone.arm()"
   ]
  },
  {
   "cell_type": "code",
   "execution_count": 4,
   "metadata": {
    "collapsed": true
   },
   "outputs": [],
   "source": [
    "drone.set_home_position(drone.global_position[0], \n",
    "                        drone.global_position[1], \n",
    "                        drone.global_position[2])"
   ]
  },
  {
   "cell_type": "code",
   "execution_count": 5,
   "metadata": {
    "collapsed": true
   },
   "outputs": [],
   "source": [
    "drone.takeoff(3)\n"
   ]
  },
  {
   "cell_type": "code",
   "execution_count": 6,
   "metadata": {
    "collapsed": true
   },
   "outputs": [],
   "source": [
    "# cmd_position(north, east, down, heading)\n",
    "drone.cmd_position(5,0,3,0)\n"
   ]
  },
  {
   "cell_type": "code",
   "execution_count": null,
   "metadata": {
    "collapsed": true
   },
   "outputs": [],
   "source": []
  }
 ],
 "metadata": {
  "kernelspec": {
   "display_name": "FCND",
   "language": "python",
   "name": "fcnd"
  },
  "language_info": {
   "codemirror_mode": {
    "name": "ipython",
    "version": 3
   },
   "file_extension": ".py",
   "mimetype": "text/x-python",
   "name": "python",
   "nbconvert_exporter": "python",
   "pygments_lexer": "ipython3",
   "version": "3.6.3"
  }
 },
 "nbformat": 4,
 "nbformat_minor": 2
}
